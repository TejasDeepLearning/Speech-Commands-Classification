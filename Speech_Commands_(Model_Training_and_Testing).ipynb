{
  "nbformat": 4,
  "nbformat_minor": 0,
  "metadata": {
    "colab": {
      "name": "Speech Commands (Model Training and Testing).ipynb",
      "provenance": [],
      "mount_file_id": "1ldGvi_BPbJls6wSva78TInfhsNGfnat3",
      "authorship_tag": "ABX9TyOIM2icgiVbu0aRMOovKOGM",
      "include_colab_link": true
    },
    "kernelspec": {
      "name": "python3",
      "display_name": "Python 3"
    },
    "language_info": {
      "name": "python"
    }
  },
  "cells": [
    {
      "cell_type": "markdown",
      "metadata": {
        "id": "view-in-github",
        "colab_type": "text"
      },
      "source": [
        "<a href=\"https://colab.research.google.com/github/Tj-dev-py/Speech-Commands-Classification/blob/main/Speech_Commands_(Model_Training_and_Testing).ipynb\" target=\"_parent\"><img src=\"https://colab.research.google.com/assets/colab-badge.svg\" alt=\"Open In Colab\"/></a>"
      ]
    },
    {
      "cell_type": "code",
      "metadata": {
        "colab": {
          "base_uri": "https://localhost:8080/",
          "height": 224
        },
        "id": "zM8J9JcwdsjL",
        "outputId": "6c1ec6db-c94f-425c-fedb-1f6aa54e5434"
      },
      "source": [
        "import pandas as pd\n",
        "from IPython.display import display\n",
        "import numpy as np\n",
        "\n",
        "extracted_features_df = pd.read_pickle('/content/drive/MyDrive/Speech Commands Audio Classification /Extracted Features/extracted_features.pkl')\n",
        "display(extracted_features_df.head(), extracted_features_df.shape)"
      ],
      "execution_count": 1,
      "outputs": [
        {
          "output_type": "display_data",
          "data": {
            "text/html": [
              "<div>\n",
              "<style scoped>\n",
              "    .dataframe tbody tr th:only-of-type {\n",
              "        vertical-align: middle;\n",
              "    }\n",
              "\n",
              "    .dataframe tbody tr th {\n",
              "        vertical-align: top;\n",
              "    }\n",
              "\n",
              "    .dataframe thead th {\n",
              "        text-align: right;\n",
              "    }\n",
              "</style>\n",
              "<table border=\"1\" class=\"dataframe\">\n",
              "  <thead>\n",
              "    <tr style=\"text-align: right;\">\n",
              "      <th></th>\n",
              "      <th>feature</th>\n",
              "      <th>class</th>\n",
              "    </tr>\n",
              "  </thead>\n",
              "  <tbody>\n",
              "    <tr>\n",
              "      <th>0</th>\n",
              "      <td>[-588.5346, 165.72563, -19.97634, 25.505146, -...</td>\n",
              "      <td>down</td>\n",
              "    </tr>\n",
              "    <tr>\n",
              "      <th>1</th>\n",
              "      <td>[-536.72925, 196.67656, -42.150036, 28.270063,...</td>\n",
              "      <td>down</td>\n",
              "    </tr>\n",
              "    <tr>\n",
              "      <th>2</th>\n",
              "      <td>[-535.14197, 170.9807, -19.985088, 34.06252, 1...</td>\n",
              "      <td>down</td>\n",
              "    </tr>\n",
              "    <tr>\n",
              "      <th>3</th>\n",
              "      <td>[-488.70197, 229.5985, -70.07708, 33.4808, 10....</td>\n",
              "      <td>down</td>\n",
              "    </tr>\n",
              "    <tr>\n",
              "      <th>4</th>\n",
              "      <td>[-546.6566, 166.20728, -41.497158, 28.023365, ...</td>\n",
              "      <td>down</td>\n",
              "    </tr>\n",
              "  </tbody>\n",
              "</table>\n",
              "</div>"
            ],
            "text/plain": [
              "                                             feature class\n",
              "0  [-588.5346, 165.72563, -19.97634, 25.505146, -...  down\n",
              "1  [-536.72925, 196.67656, -42.150036, 28.270063,...  down\n",
              "2  [-535.14197, 170.9807, -19.985088, 34.06252, 1...  down\n",
              "3  [-488.70197, 229.5985, -70.07708, 33.4808, 10....  down\n",
              "4  [-546.6566, 166.20728, -41.497158, 28.023365, ...  down"
            ]
          },
          "metadata": {}
        },
        {
          "output_type": "display_data",
          "data": {
            "text/plain": [
              "(27571, 2)"
            ]
          },
          "metadata": {}
        }
      ]
    },
    {
      "cell_type": "code",
      "metadata": {
        "id": "yGnXHgQ_ebL6"
      },
      "source": [
        "# Splitting the dataset into independent and dependent variables\n",
        "X = np.array(extracted_features_df['feature'].tolist())\n",
        "y = np.array(extracted_features_df['class'].tolist())"
      ],
      "execution_count": 2,
      "outputs": []
    },
    {
      "cell_type": "code",
      "metadata": {
        "colab": {
          "base_uri": "https://localhost:8080/",
          "height": 555
        },
        "id": "F_JXpE3hegad",
        "outputId": "9741d7f1-4594-4b0b-8311-7677692c8528"
      },
      "source": [
        "display(X[:2], X.shape, y[:2], y.shape)"
      ],
      "execution_count": 3,
      "outputs": [
        {
          "output_type": "display_data",
          "data": {
            "text/plain": [
              "array([[-5.88534607e+02,  1.65725632e+02, -1.99763393e+01,\n",
              "         2.55051460e+01, -8.37503338e+00, -1.41040030e+01,\n",
              "         3.90248394e+00,  3.24194551e+00, -2.03755550e+01,\n",
              "         2.42028618e+00, -5.17369032e+00, -9.40413761e+00,\n",
              "         3.13723063e+00, -1.41327658e+01,  3.55066752e+00,\n",
              "         4.87875462e+00, -5.70190096e+00, -6.24347830e+00,\n",
              "         7.68477774e+00, -4.26375151e+00, -8.27132893e+00,\n",
              "         3.07360935e+00, -4.54137945e+00,  1.39910445e-01,\n",
              "        -5.86316681e+00,  3.76577830e+00,  1.65205812e+00,\n",
              "        -3.76900935e+00,  3.39766324e-01, -8.07228684e-01,\n",
              "        -7.10546672e-02, -5.20493746e+00,  2.46700001e+00,\n",
              "        -3.09450507e+00, -1.14392805e+00,  6.96672082e-01,\n",
              "        -3.16858196e+00, -2.96967272e-02, -1.43387508e+00,\n",
              "        -3.32503676e-01],\n",
              "       [-5.36729248e+02,  1.96676559e+02, -4.21500359e+01,\n",
              "         2.82700634e+01, -3.38422942e+00, -2.20895042e+01,\n",
              "         4.80113268e+00,  4.84922838e+00, -2.21200886e+01,\n",
              "         5.95539284e+00, -1.55936289e+00, -8.90308475e+00,\n",
              "         1.09887228e+01, -1.14159155e+01, -3.00560546e+00,\n",
              "         4.33453608e+00, -2.44685149e+00, -2.95715308e+00,\n",
              "         6.38527822e+00, -5.77639484e+00, -4.87928343e+00,\n",
              "         5.60926104e+00, -6.28398466e+00,  1.51834524e+00,\n",
              "        -1.19712555e+00,  4.96561915e-01,  2.35734120e-01,\n",
              "        -1.89218032e+00,  1.46284074e-01,  1.55488062e+00,\n",
              "         2.68430853e+00, -3.31594992e+00,  2.45782828e+00,\n",
              "        -3.18532014e+00,  2.56263107e-01,  1.92574394e+00,\n",
              "        -4.32138062e+00, -5.93806803e-01, -7.02337801e-01,\n",
              "        -9.25770044e-01]], dtype=float32)"
            ]
          },
          "metadata": {}
        },
        {
          "output_type": "display_data",
          "data": {
            "text/plain": [
              "(27571, 40)"
            ]
          },
          "metadata": {}
        },
        {
          "output_type": "display_data",
          "data": {
            "text/plain": [
              "array(['down', 'down'], dtype='<U5')"
            ]
          },
          "metadata": {}
        },
        {
          "output_type": "display_data",
          "data": {
            "text/plain": [
              "(27571,)"
            ]
          },
          "metadata": {}
        }
      ]
    },
    {
      "cell_type": "code",
      "metadata": {
        "id": "qdjuoOabejjM"
      },
      "source": [
        "# Label encoding\n",
        "y = np.array(pd.get_dummies(y))"
      ],
      "execution_count": 4,
      "outputs": []
    },
    {
      "cell_type": "code",
      "metadata": {
        "colab": {
          "base_uri": "https://localhost:8080/"
        },
        "id": "gSvyqjG4en20",
        "outputId": "31eff90f-6bfc-4566-cee3-8facc8820feb"
      },
      "source": [
        "X.shape, y.shape"
      ],
      "execution_count": 5,
      "outputs": [
        {
          "output_type": "execute_result",
          "data": {
            "text/plain": [
              "((27571, 40), (27571, 20))"
            ]
          },
          "metadata": {},
          "execution_count": 5
        }
      ]
    },
    {
      "cell_type": "code",
      "metadata": {
        "id": "9FV4DVf0epGN"
      },
      "source": [
        "# Train Test Split\n",
        "from sklearn.model_selection import train_test_split\n",
        "X_train,X_test,y_train,y_test=train_test_split(X,y,test_size=0.2,random_state=0)"
      ],
      "execution_count": 6,
      "outputs": []
    },
    {
      "cell_type": "code",
      "metadata": {
        "colab": {
          "base_uri": "https://localhost:8080/",
          "height": 86
        },
        "id": "zSXKEQkOer1V",
        "outputId": "3b831c9a-f9be-4f82-e151-6c41d2e8b73c"
      },
      "source": [
        "display(X_train.shape, X_test.shape, y_train.shape, y_test.shape)"
      ],
      "execution_count": 7,
      "outputs": [
        {
          "output_type": "display_data",
          "data": {
            "text/plain": [
              "(22056, 40)"
            ]
          },
          "metadata": {}
        },
        {
          "output_type": "display_data",
          "data": {
            "text/plain": [
              "(5515, 40)"
            ]
          },
          "metadata": {}
        },
        {
          "output_type": "display_data",
          "data": {
            "text/plain": [
              "(22056, 20)"
            ]
          },
          "metadata": {}
        },
        {
          "output_type": "display_data",
          "data": {
            "text/plain": [
              "(5515, 20)"
            ]
          },
          "metadata": {}
        }
      ]
    },
    {
      "cell_type": "code",
      "metadata": {
        "colab": {
          "base_uri": "https://localhost:8080/"
        },
        "id": "Cd3bwJv-etWw",
        "outputId": "d3f39a07-26e0-4be6-8d1b-efbaaa276ef1"
      },
      "source": [
        "y[1]"
      ],
      "execution_count": 8,
      "outputs": [
        {
          "output_type": "execute_result",
          "data": {
            "text/plain": [
              "array([1, 0, 0, 0, 0, 0, 0, 0, 0, 0, 0, 0, 0, 0, 0, 0, 0, 0, 0, 0],\n",
              "      dtype=uint8)"
            ]
          },
          "metadata": {},
          "execution_count": 8
        }
      ]
    },
    {
      "cell_type": "code",
      "metadata": {
        "colab": {
          "base_uri": "https://localhost:8080/"
        },
        "id": "_DII8liueu5p",
        "outputId": "b71d8939-151b-4c87-dbef-a0d43711bebb"
      },
      "source": [
        "import tensorflow as tf\n",
        "print(tf.__version__)"
      ],
      "execution_count": 9,
      "outputs": [
        {
          "output_type": "stream",
          "name": "stdout",
          "text": [
            "2.7.0\n"
          ]
        }
      ]
    },
    {
      "cell_type": "code",
      "metadata": {
        "id": "qUtG24mxezvS"
      },
      "source": [
        "# import libraries\n",
        "from tensorflow.keras.models import Sequential\n",
        "from tensorflow.keras.layers import Dense, Dropout, Activation, Flatten\n",
        "from tensorflow.keras import regularizers\n",
        "from sklearn import metrics"
      ],
      "execution_count": 10,
      "outputs": []
    },
    {
      "cell_type": "code",
      "metadata": {
        "id": "XLtnaN80e01n"
      },
      "source": [
        "# Number of classes\n",
        "num_labels = y.shape[1]"
      ],
      "execution_count": 11,
      "outputs": []
    },
    {
      "cell_type": "code",
      "metadata": {
        "colab": {
          "base_uri": "https://localhost:8080/"
        },
        "id": "Q_bqqIqNe2At",
        "outputId": "7ebc7a78-c854-4e81-bc03-9ca9d871214f"
      },
      "source": [
        "num_labels"
      ],
      "execution_count": 12,
      "outputs": [
        {
          "output_type": "execute_result",
          "data": {
            "text/plain": [
              "20"
            ]
          },
          "metadata": {},
          "execution_count": 12
        }
      ]
    },
    {
      "cell_type": "code",
      "metadata": {
        "id": "gjTNhRH1e3Gf"
      },
      "source": [
        "# setting a callback\n",
        "from tensorflow.keras.callbacks import EarlyStopping\n",
        "\n",
        "early_stopping = EarlyStopping(\n",
        "    \n",
        "    monitor=\"val_loss\",\n",
        "    min_delta=0,\n",
        "    patience=2,\n",
        "    verbose=1,\n",
        "    mode=\"auto\",\n",
        "    baseline=None,\n",
        "    restore_best_weights=False,\n",
        "\n",
        ")"
      ],
      "execution_count": 13,
      "outputs": []
    },
    {
      "cell_type": "code",
      "metadata": {
        "id": "y54ROIsqe4KN"
      },
      "source": [
        "# Creating the neural network\n",
        "model = Sequential([\n",
        "                    # First layer\n",
        "                    Dense(700, input_shape=(40, ), activation='relu', kernel_regularizer=regularizers.l2(0.0001)),\n",
        "                    Dropout(.5),\n",
        "\n",
        "                    # Final Layer\n",
        "                    Dense(num_labels, activation='softmax')\n",
        "])"
      ],
      "execution_count": 14,
      "outputs": []
    },
    {
      "cell_type": "code",
      "metadata": {
        "colab": {
          "base_uri": "https://localhost:8080/"
        },
        "id": "mCK_HVzUfIpm",
        "outputId": "47dbc7fa-6091-4491-e3b4-12f906c6a534"
      },
      "source": [
        "# Model's summary\n",
        "model.summary()"
      ],
      "execution_count": 15,
      "outputs": [
        {
          "output_type": "stream",
          "name": "stdout",
          "text": [
            "Model: \"sequential\"\n",
            "_________________________________________________________________\n",
            " Layer (type)                Output Shape              Param #   \n",
            "=================================================================\n",
            " dense (Dense)               (None, 700)               28700     \n",
            "                                                                 \n",
            " dropout (Dropout)           (None, 700)               0         \n",
            "                                                                 \n",
            " dense_1 (Dense)             (None, 20)                14020     \n",
            "                                                                 \n",
            "=================================================================\n",
            "Total params: 42,720\n",
            "Trainable params: 42,720\n",
            "Non-trainable params: 0\n",
            "_________________________________________________________________\n"
          ]
        }
      ]
    },
    {
      "cell_type": "code",
      "metadata": {
        "id": "gCtaPOzCfLos"
      },
      "source": [
        "# compiling the model\n",
        "\n",
        "model.compile(loss='categorical_crossentropy', metrics=['accuracy'], optimizer='adam')"
      ],
      "execution_count": 16,
      "outputs": []
    },
    {
      "cell_type": "code",
      "metadata": {
        "colab": {
          "base_uri": "https://localhost:8080/"
        },
        "id": "S2QqYXMkfPUc",
        "outputId": "66a21097-b0ba-4ee9-f3ea-e9ad715db7e1"
      },
      "source": [
        "num_epochs = 100\n",
        "num_batch_size = 32\n",
        "\n",
        "history = model.fit(X_train, y_train,\n",
        "          batch_size=num_batch_size,\n",
        "          epochs=num_epochs,\n",
        "          validation_data=(X_test, y_test),\n",
        "          callbacks=[early_stopping]\n",
        "          )"
      ],
      "execution_count": 17,
      "outputs": [
        {
          "output_type": "stream",
          "name": "stdout",
          "text": [
            "Epoch 1/100\n",
            "690/690 [==============================] - 3s 4ms/step - loss: 7.4425 - accuracy: 0.3129 - val_loss: 1.4057 - val_accuracy: 0.5422\n",
            "Epoch 2/100\n",
            "690/690 [==============================] - 2s 3ms/step - loss: 1.4766 - accuracy: 0.5098 - val_loss: 1.0910 - val_accuracy: 0.6470\n",
            "Epoch 3/100\n",
            "690/690 [==============================] - 2s 3ms/step - loss: 1.2453 - accuracy: 0.5747 - val_loss: 0.9241 - val_accuracy: 0.6972\n",
            "Epoch 4/100\n",
            "690/690 [==============================] - 2s 3ms/step - loss: 1.1239 - accuracy: 0.6139 - val_loss: 0.8365 - val_accuracy: 0.7179\n",
            "Epoch 5/100\n",
            "690/690 [==============================] - 2s 3ms/step - loss: 1.0285 - accuracy: 0.6456 - val_loss: 0.7558 - val_accuracy: 0.7626\n",
            "Epoch 6/100\n",
            "690/690 [==============================] - 2s 3ms/step - loss: 0.9639 - accuracy: 0.6646 - val_loss: 0.6841 - val_accuracy: 0.7753\n",
            "Epoch 7/100\n",
            "690/690 [==============================] - 2s 3ms/step - loss: 0.9237 - accuracy: 0.6827 - val_loss: 0.6577 - val_accuracy: 0.7880\n",
            "Epoch 8/100\n",
            "690/690 [==============================] - 2s 3ms/step - loss: 0.8756 - accuracy: 0.6973 - val_loss: 0.5904 - val_accuracy: 0.8076\n",
            "Epoch 9/100\n",
            "690/690 [==============================] - 2s 3ms/step - loss: 0.8431 - accuracy: 0.7054 - val_loss: 0.5877 - val_accuracy: 0.8118\n",
            "Epoch 10/100\n",
            "690/690 [==============================] - 2s 3ms/step - loss: 0.8183 - accuracy: 0.7156 - val_loss: 0.5936 - val_accuracy: 0.8040\n",
            "Epoch 11/100\n",
            "690/690 [==============================] - 2s 3ms/step - loss: 0.8049 - accuracy: 0.7198 - val_loss: 0.5368 - val_accuracy: 0.8158\n",
            "Epoch 12/100\n",
            "690/690 [==============================] - 2s 3ms/step - loss: 0.7697 - accuracy: 0.7320 - val_loss: 0.4837 - val_accuracy: 0.8379\n",
            "Epoch 13/100\n",
            "690/690 [==============================] - 2s 3ms/step - loss: 0.7550 - accuracy: 0.7381 - val_loss: 0.5012 - val_accuracy: 0.8401\n",
            "Epoch 14/100\n",
            "690/690 [==============================] - 2s 3ms/step - loss: 0.7326 - accuracy: 0.7479 - val_loss: 0.4887 - val_accuracy: 0.8464\n",
            "Epoch 00014: early stopping\n"
          ]
        }
      ]
    },
    {
      "cell_type": "code",
      "metadata": {
        "id": "E3ogQMokfRHw"
      },
      "source": [
        "tf.keras.models.save_model(model,'speech_commands_model.hdf5')"
      ],
      "execution_count": 18,
      "outputs": []
    },
    {
      "cell_type": "code",
      "metadata": {
        "id": "qI5dQzmHhYu0"
      },
      "source": [
        "model = tf.keras.models.load_model('/content/speech_commands_model.hdf5')"
      ],
      "execution_count": 35,
      "outputs": []
    },
    {
      "cell_type": "code",
      "metadata": {
        "colab": {
          "base_uri": "https://localhost:8080/"
        },
        "id": "AQnIC4EXhkWd",
        "outputId": "7fe8b7e6-6a81-4535-c5b5-351002b2af4a"
      },
      "source": [
        "test_accuracy = model.evaluate(X_test, y_test)\n",
        "print(test_accuracy)"
      ],
      "execution_count": 20,
      "outputs": [
        {
          "output_type": "stream",
          "name": "stdout",
          "text": [
            "173/173 [==============================] - 0s 1ms/step - loss: 0.4887 - accuracy: 0.8464\n",
            "[0.48865771293640137, 0.8464188575744629]\n"
          ]
        }
      ]
    },
    {
      "cell_type": "code",
      "metadata": {
        "id": "mATaHenRhnQ6"
      },
      "source": [
        "filename = '/content/drive/MyDrive/Speech Commands Audio Classification /augmented_dataset/zero/zero_102.wav'\n",
        "\n",
        "import librosa\n",
        "\n",
        "def feature_extractor(file):\n",
        "  audio, sample_rate = librosa.load(file, res_type='kaiser_fast')\n",
        "  mfccs_features = librosa.feature.mfcc(y=audio, sr=sample_rate, n_mfcc=40)\n",
        "  mfccs_scaled_features = np.mean(mfccs_features.T, axis=0)\n",
        "\n",
        "  return mfccs_scaled_features"
      ],
      "execution_count": 29,
      "outputs": []
    },
    {
      "cell_type": "code",
      "metadata": {
        "id": "Zn_U1CVxh4bg"
      },
      "source": [
        "prediction_feature = feature_extractor(filename)"
      ],
      "execution_count": 30,
      "outputs": []
    },
    {
      "cell_type": "code",
      "metadata": {
        "colab": {
          "base_uri": "https://localhost:8080/"
        },
        "id": "IGlDsv6Qh7wu",
        "outputId": "f10610eb-0c13-4b42-d802-99066e6ea83c"
      },
      "source": [
        "# before reshaping\n",
        "prediction_feature.shape"
      ],
      "execution_count": 31,
      "outputs": [
        {
          "output_type": "execute_result",
          "data": {
            "text/plain": [
              "(40,)"
            ]
          },
          "metadata": {},
          "execution_count": 31
        }
      ]
    },
    {
      "cell_type": "code",
      "metadata": {
        "colab": {
          "base_uri": "https://localhost:8080/"
        },
        "id": "djdWvw1ah96I",
        "outputId": "33bfe416-2896-4937-ab74-34322999e882"
      },
      "source": [
        "# after reshaping\n",
        "prediction_feature.reshape(1, -1).shape"
      ],
      "execution_count": 32,
      "outputs": [
        {
          "output_type": "execute_result",
          "data": {
            "text/plain": [
              "(1, 40)"
            ]
          },
          "metadata": {},
          "execution_count": 32
        }
      ]
    },
    {
      "cell_type": "code",
      "metadata": {
        "id": "ugln0QG-h_Ce"
      },
      "source": [
        "prediction_feature = prediction_feature.reshape(1, -1)"
      ],
      "execution_count": 33,
      "outputs": []
    },
    {
      "cell_type": "code",
      "metadata": {
        "colab": {
          "base_uri": "https://localhost:8080/"
        },
        "id": "bx6qIimTiARn",
        "outputId": "923e2a75-296e-4285-e211-bf4cd400944f"
      },
      "source": [
        "np.argmax(model.predict(prediction_feature), axis=-1)"
      ],
      "execution_count": 34,
      "outputs": [
        {
          "output_type": "execute_result",
          "data": {
            "text/plain": [
              "array([19])"
            ]
          },
          "metadata": {},
          "execution_count": 34
        }
      ]
    },
    {
      "cell_type": "markdown",
      "metadata": {
        "id": "lKaFn7n-iOPX"
      },
      "source": [
        "Our model was correct in its prediction"
      ]
    },
    {
      "cell_type": "code",
      "metadata": {
        "colab": {
          "base_uri": "https://localhost:8080/",
          "height": 75
        },
        "id": "Qxt91PvXiBR3",
        "outputId": "9117ef17-5bf2-4ba5-fd09-44a0c775c695"
      },
      "source": [
        "import IPython.display as ipd\n",
        "ipd.Audio('/content/drive/MyDrive/Speech Commands Audio Classification /augmented_dataset/seven/seven_1084.wav')"
      ],
      "execution_count": 38,
      "outputs": [
        {
          "output_type": "execute_result",
          "data": {
            "text/html": [
              "\n",
              "                <audio controls=\"controls\" >\n",
              "                    <source src=\"data:audio/x-wav;base64,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\" type=\"audio/x-wav\" />\n",
              "                    Your browser does not support the audio element.\n",
              "                </audio>\n",
              "              "
            ],
            "text/plain": [
              "<IPython.lib.display.Audio object>"
            ]
          },
          "metadata": {},
          "execution_count": 38
        }
      ]
    }
  ]
}